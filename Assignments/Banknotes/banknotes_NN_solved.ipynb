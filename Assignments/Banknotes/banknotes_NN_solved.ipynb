{
 "cells": [
  {
   "cell_type": "markdown",
   "id": "f8cc1c06",
   "metadata": {
    "slideshow": {
     "slide_type": ""
    }
   },
   "source": [
    "# Counterfeit detection"
   ]
  },
  {
   "cell_type": "markdown",
   "id": "daebfd6f",
   "metadata": {},
   "source": [
    "The task in this assignment is to detect the  counterfeit banknotes. The data set is based on [banknote authentication Data Set ](https://archive.ics.uci.edu/ml/datasets/banknote+authentication#) from UCI Machine Learning repository. The first three columns denote different parameters obtained from the photographs of the banknotes and last colum provides the label. Frankly as the dataset does not have any description I don't know  which labels corresponds to real and which to counterfeited banknotes. let's assume that label one (positive) denotes the clounterfeits. The set  [banknote_authentication.csv](./data/banknote_authentication.csv) can be found in the `data`  directory."
   ]
  },
  {
   "cell_type": "code",
   "execution_count": 2,
   "id": "6084468f",
   "metadata": {},
   "outputs": [],
   "source": [
    "import pandas as pd\n",
    "import numpy as np\n",
    "import matplotlib.pyplot as plt\n",
    "import scipy.stats as st"
   ]
  },
  {
   "cell_type": "code",
   "execution_count": 3,
   "id": "244a663b",
   "metadata": {},
   "outputs": [],
   "source": [
    "from sklearn.metrics import classification_report, ConfusionMatrixDisplay"
   ]
  },
  {
   "cell_type": "code",
   "execution_count": 4,
   "id": "fa61cf67",
   "metadata": {},
   "outputs": [],
   "source": [
    "import  matplotlib.pyplot as plt\n",
    "plt.rcParams['figure.figsize']=(8,8)"
   ]
  },
  {
   "cell_type": "markdown",
   "id": "516ea1f8",
   "metadata": {},
   "source": [
    "Please insert you  firstname  and name below"
   ]
  },
  {
   "cell_type": "code",
   "execution_count": 5,
   "id": "a2d013a2",
   "metadata": {},
   "outputs": [],
   "source": [
    "# Aleksandra Stępień\n",
    "# Jakub Chmura"
   ]
  },
  {
   "cell_type": "code",
   "execution_count": 6,
   "id": "388a8561",
   "metadata": {},
   "outputs": [],
   "source": [
    "from  sklearn.model_selection import train_test_split\n",
    "seed = 31287"
   ]
  },
  {
   "cell_type": "code",
   "execution_count": 7,
   "id": "f4284471",
   "metadata": {},
   "outputs": [],
   "source": [
    "data = pd.read_csv('data/banknotes_data.csv')"
   ]
  },
  {
   "cell_type": "code",
   "execution_count": 8,
   "id": "3d81b47a",
   "metadata": {},
   "outputs": [
    {
     "data": {
      "text/html": [
       "<div>\n",
       "<style scoped>\n",
       "    .dataframe tbody tr th:only-of-type {\n",
       "        vertical-align: middle;\n",
       "    }\n",
       "\n",
       "    .dataframe tbody tr th {\n",
       "        vertical-align: top;\n",
       "    }\n",
       "\n",
       "    .dataframe thead th {\n",
       "        text-align: right;\n",
       "    }\n",
       "</style>\n",
       "<table border=\"1\" class=\"dataframe\">\n",
       "  <thead>\n",
       "    <tr style=\"text-align: right;\">\n",
       "      <th></th>\n",
       "      <th>a0</th>\n",
       "      <th>a1</th>\n",
       "      <th>a2</th>\n",
       "      <th>a3</th>\n",
       "      <th>counterfeit</th>\n",
       "    </tr>\n",
       "  </thead>\n",
       "  <tbody>\n",
       "    <tr>\n",
       "      <th>0</th>\n",
       "      <td>-1.1306</td>\n",
       "      <td>1.8458</td>\n",
       "      <td>-1.35750</td>\n",
       "      <td>-1.38060</td>\n",
       "      <td>1</td>\n",
       "    </tr>\n",
       "    <tr>\n",
       "      <th>1</th>\n",
       "      <td>-1.1188</td>\n",
       "      <td>3.3357</td>\n",
       "      <td>-1.34550</td>\n",
       "      <td>-1.95730</td>\n",
       "      <td>1</td>\n",
       "    </tr>\n",
       "    <tr>\n",
       "      <th>2</th>\n",
       "      <td>2.6719</td>\n",
       "      <td>3.0646</td>\n",
       "      <td>0.37158</td>\n",
       "      <td>0.58619</td>\n",
       "      <td>0</td>\n",
       "    </tr>\n",
       "    <tr>\n",
       "      <th>3</th>\n",
       "      <td>-4.1409</td>\n",
       "      <td>3.4619</td>\n",
       "      <td>-0.47841</td>\n",
       "      <td>-3.88790</td>\n",
       "      <td>1</td>\n",
       "    </tr>\n",
       "    <tr>\n",
       "      <th>4</th>\n",
       "      <td>1.4507</td>\n",
       "      <td>8.7903</td>\n",
       "      <td>-2.23240</td>\n",
       "      <td>-0.65259</td>\n",
       "      <td>0</td>\n",
       "    </tr>\n",
       "  </tbody>\n",
       "</table>\n",
       "</div>"
      ],
      "text/plain": [
       "       a0      a1       a2       a3  counterfeit\n",
       "0 -1.1306  1.8458 -1.35750 -1.38060            1\n",
       "1 -1.1188  3.3357 -1.34550 -1.95730            1\n",
       "2  2.6719  3.0646  0.37158  0.58619            0\n",
       "3 -4.1409  3.4619 -0.47841 -3.88790            1\n",
       "4  1.4507  8.7903 -2.23240 -0.65259            0"
      ]
     },
     "execution_count": 8,
     "metadata": {},
     "output_type": "execute_result"
    }
   ],
   "source": [
    "data.head()"
   ]
  },
  {
   "cell_type": "code",
   "execution_count": 9,
   "id": "2c90ffb9",
   "metadata": {
    "tags": [
     "skip"
    ]
   },
   "outputs": [
    {
     "data": {
      "text/html": [
       "<div>\n",
       "<style scoped>\n",
       "    .dataframe tbody tr th:only-of-type {\n",
       "        vertical-align: middle;\n",
       "    }\n",
       "\n",
       "    .dataframe tbody tr th {\n",
       "        vertical-align: top;\n",
       "    }\n",
       "\n",
       "    .dataframe thead th {\n",
       "        text-align: right;\n",
       "    }\n",
       "</style>\n",
       "<table border=\"1\" class=\"dataframe\">\n",
       "  <thead>\n",
       "    <tr style=\"text-align: right;\">\n",
       "      <th></th>\n",
       "      <th>a0</th>\n",
       "      <th>a1</th>\n",
       "      <th>a2</th>\n",
       "      <th>a3</th>\n",
       "      <th>counterfeit</th>\n",
       "    </tr>\n",
       "  </thead>\n",
       "  <tbody>\n",
       "    <tr>\n",
       "      <th>count</th>\n",
       "      <td>1166.000000</td>\n",
       "      <td>1166.000000</td>\n",
       "      <td>1166.000000</td>\n",
       "      <td>1166.000000</td>\n",
       "      <td>1166.000000</td>\n",
       "    </tr>\n",
       "    <tr>\n",
       "      <th>mean</th>\n",
       "      <td>0.431116</td>\n",
       "      <td>1.902054</td>\n",
       "      <td>1.426607</td>\n",
       "      <td>-1.220393</td>\n",
       "      <td>0.444254</td>\n",
       "    </tr>\n",
       "    <tr>\n",
       "      <th>std</th>\n",
       "      <td>2.845672</td>\n",
       "      <td>5.942260</td>\n",
       "      <td>4.397341</td>\n",
       "      <td>2.101777</td>\n",
       "      <td>0.497096</td>\n",
       "    </tr>\n",
       "    <tr>\n",
       "      <th>min</th>\n",
       "      <td>-7.042100</td>\n",
       "      <td>-13.773100</td>\n",
       "      <td>-5.286100</td>\n",
       "      <td>-7.871900</td>\n",
       "      <td>0.000000</td>\n",
       "    </tr>\n",
       "    <tr>\n",
       "      <th>25%</th>\n",
       "      <td>-1.770900</td>\n",
       "      <td>-1.916200</td>\n",
       "      <td>-1.664300</td>\n",
       "      <td>-2.466150</td>\n",
       "      <td>0.000000</td>\n",
       "    </tr>\n",
       "    <tr>\n",
       "      <th>50%</th>\n",
       "      <td>0.471345</td>\n",
       "      <td>2.408650</td>\n",
       "      <td>0.567365</td>\n",
       "      <td>-0.614450</td>\n",
       "      <td>0.000000</td>\n",
       "    </tr>\n",
       "    <tr>\n",
       "      <th>75%</th>\n",
       "      <td>2.816925</td>\n",
       "      <td>6.800675</td>\n",
       "      <td>3.338825</td>\n",
       "      <td>0.394810</td>\n",
       "      <td>1.000000</td>\n",
       "    </tr>\n",
       "    <tr>\n",
       "      <th>max</th>\n",
       "      <td>6.824800</td>\n",
       "      <td>12.730200</td>\n",
       "      <td>17.927400</td>\n",
       "      <td>2.449500</td>\n",
       "      <td>1.000000</td>\n",
       "    </tr>\n",
       "  </tbody>\n",
       "</table>\n",
       "</div>"
      ],
      "text/plain": [
       "                a0           a1           a2           a3  counterfeit\n",
       "count  1166.000000  1166.000000  1166.000000  1166.000000  1166.000000\n",
       "mean      0.431116     1.902054     1.426607    -1.220393     0.444254\n",
       "std       2.845672     5.942260     4.397341     2.101777     0.497096\n",
       "min      -7.042100   -13.773100    -5.286100    -7.871900     0.000000\n",
       "25%      -1.770900    -1.916200    -1.664300    -2.466150     0.000000\n",
       "50%       0.471345     2.408650     0.567365    -0.614450     0.000000\n",
       "75%       2.816925     6.800675     3.338825     0.394810     1.000000\n",
       "max       6.824800    12.730200    17.927400     2.449500     1.000000"
      ]
     },
     "execution_count": 9,
     "metadata": {},
     "output_type": "execute_result"
    }
   ],
   "source": [
    "data.describe()"
   ]
  },
  {
   "cell_type": "code",
   "execution_count": 10,
   "id": "cc29c69b",
   "metadata": {
    "tags": [
     "skip"
    ]
   },
   "outputs": [
    {
     "name": "stdout",
     "output_type": "stream",
     "text": [
      "<class 'pandas.core.frame.DataFrame'>\n",
      "RangeIndex: 1166 entries, 0 to 1165\n",
      "Data columns (total 5 columns):\n",
      " #   Column       Non-Null Count  Dtype  \n",
      "---  ------       --------------  -----  \n",
      " 0   a0           1166 non-null   float64\n",
      " 1   a1           1166 non-null   float64\n",
      " 2   a2           1166 non-null   float64\n",
      " 3   a3           1166 non-null   float64\n",
      " 4   counterfeit  1166 non-null   int64  \n",
      "dtypes: float64(4), int64(1)\n",
      "memory usage: 45.7 KB\n"
     ]
    }
   ],
   "source": [
    "data.info()"
   ]
  },
  {
   "cell_type": "code",
   "execution_count": 11,
   "id": "3c61f284",
   "metadata": {},
   "outputs": [],
   "source": [
    "data_train, data_test = train_test_split(data, test_size=0.2, shuffle=True, stratify=data.loc[:,'counterfeit'], random_state=seed)"
   ]
  },
  {
   "cell_type": "code",
   "execution_count": 12,
   "id": "65946e4f",
   "metadata": {},
   "outputs": [
    {
     "data": {
      "text/html": [
       "<div>\n",
       "<style scoped>\n",
       "    .dataframe tbody tr th:only-of-type {\n",
       "        vertical-align: middle;\n",
       "    }\n",
       "\n",
       "    .dataframe tbody tr th {\n",
       "        vertical-align: top;\n",
       "    }\n",
       "\n",
       "    .dataframe thead th {\n",
       "        text-align: right;\n",
       "    }\n",
       "</style>\n",
       "<table border=\"1\" class=\"dataframe\">\n",
       "  <thead>\n",
       "    <tr style=\"text-align: right;\">\n",
       "      <th></th>\n",
       "      <th>a0</th>\n",
       "      <th>a1</th>\n",
       "      <th>a2</th>\n",
       "      <th>a3</th>\n",
       "      <th>counterfeit</th>\n",
       "    </tr>\n",
       "  </thead>\n",
       "  <tbody>\n",
       "    <tr>\n",
       "      <th>711</th>\n",
       "      <td>1.94760</td>\n",
       "      <td>-4.773800</td>\n",
       "      <td>8.52700</td>\n",
       "      <td>-1.866800</td>\n",
       "      <td>0</td>\n",
       "    </tr>\n",
       "    <tr>\n",
       "      <th>565</th>\n",
       "      <td>1.42760</td>\n",
       "      <td>8.384700</td>\n",
       "      <td>-2.09950</td>\n",
       "      <td>-1.967700</td>\n",
       "      <td>0</td>\n",
       "    </tr>\n",
       "    <tr>\n",
       "      <th>912</th>\n",
       "      <td>-4.28590</td>\n",
       "      <td>8.523400</td>\n",
       "      <td>3.13920</td>\n",
       "      <td>-0.916390</td>\n",
       "      <td>0</td>\n",
       "    </tr>\n",
       "    <tr>\n",
       "      <th>64</th>\n",
       "      <td>4.92490</td>\n",
       "      <td>0.689060</td>\n",
       "      <td>0.77344</td>\n",
       "      <td>1.209500</td>\n",
       "      <td>0</td>\n",
       "    </tr>\n",
       "    <tr>\n",
       "      <th>871</th>\n",
       "      <td>2.19480</td>\n",
       "      <td>1.378100</td>\n",
       "      <td>1.15820</td>\n",
       "      <td>0.857740</td>\n",
       "      <td>0</td>\n",
       "    </tr>\n",
       "    <tr>\n",
       "      <th>...</th>\n",
       "      <td>...</td>\n",
       "      <td>...</td>\n",
       "      <td>...</td>\n",
       "      <td>...</td>\n",
       "      <td>...</td>\n",
       "    </tr>\n",
       "    <tr>\n",
       "      <th>47</th>\n",
       "      <td>-2.45610</td>\n",
       "      <td>-4.556600</td>\n",
       "      <td>6.45340</td>\n",
       "      <td>-0.056479</td>\n",
       "      <td>1</td>\n",
       "    </tr>\n",
       "    <tr>\n",
       "      <th>1161</th>\n",
       "      <td>1.21380</td>\n",
       "      <td>8.798600</td>\n",
       "      <td>-2.16720</td>\n",
       "      <td>-0.741820</td>\n",
       "      <td>0</td>\n",
       "    </tr>\n",
       "    <tr>\n",
       "      <th>174</th>\n",
       "      <td>5.87820</td>\n",
       "      <td>5.940900</td>\n",
       "      <td>-2.85440</td>\n",
       "      <td>-0.608630</td>\n",
       "      <td>0</td>\n",
       "    </tr>\n",
       "    <tr>\n",
       "      <th>1119</th>\n",
       "      <td>0.17346</td>\n",
       "      <td>7.869500</td>\n",
       "      <td>0.26876</td>\n",
       "      <td>-3.788300</td>\n",
       "      <td>0</td>\n",
       "    </tr>\n",
       "    <tr>\n",
       "      <th>1129</th>\n",
       "      <td>-2.68640</td>\n",
       "      <td>-0.097265</td>\n",
       "      <td>0.61663</td>\n",
       "      <td>0.061192</td>\n",
       "      <td>1</td>\n",
       "    </tr>\n",
       "  </tbody>\n",
       "</table>\n",
       "<p>932 rows × 5 columns</p>\n",
       "</div>"
      ],
      "text/plain": [
       "           a0        a1       a2        a3  counterfeit\n",
       "711   1.94760 -4.773800  8.52700 -1.866800            0\n",
       "565   1.42760  8.384700 -2.09950 -1.967700            0\n",
       "912  -4.28590  8.523400  3.13920 -0.916390            0\n",
       "64    4.92490  0.689060  0.77344  1.209500            0\n",
       "871   2.19480  1.378100  1.15820  0.857740            0\n",
       "...       ...       ...      ...       ...          ...\n",
       "47   -2.45610 -4.556600  6.45340 -0.056479            1\n",
       "1161  1.21380  8.798600 -2.16720 -0.741820            0\n",
       "174   5.87820  5.940900 -2.85440 -0.608630            0\n",
       "1119  0.17346  7.869500  0.26876 -3.788300            0\n",
       "1129 -2.68640 -0.097265  0.61663  0.061192            1\n",
       "\n",
       "[932 rows x 5 columns]"
      ]
     },
     "execution_count": 12,
     "metadata": {},
     "output_type": "execute_result"
    }
   ],
   "source": [
    "data_train"
   ]
  },
  {
   "cell_type": "code",
   "execution_count": 13,
   "id": "96882afd",
   "metadata": {},
   "outputs": [],
   "source": [
    "lbls_train = data_train['counterfeit']\n",
    "lbls_test = data_test['counterfeit']"
   ]
  },
  {
   "cell_type": "code",
   "execution_count": 14,
   "id": "d2f18474",
   "metadata": {},
   "outputs": [
    {
     "data": {
      "image/png": "[encoded data removed]",
      "text/plain": [
       "<Figure size 1584x360 with 4 Axes>"
      ]
     },
     "metadata": {
      "needs_background": "light"
     },
     "output_type": "display_data"
    }
   ],
   "source": [
    "fig, ax = plt.subplots(1,4, figsize=(22,5))\n",
    "for i in range(4):\n",
    "    ax[i].hist(data_train[lbls_train==0].iloc[:,i], bins=32, histtype='step', color='blue')\n",
    "    ax[i].hist(data_train[lbls_train==1].iloc[:,i], bins=32, histtype='step', color='red')\n",
    "    ax[i].hist(data_train[lbls_train==0].iloc[:,i], bins=32, histtype='bar', color='lightblue', alpha=0.25)\n",
    "    ax[i].hist(data_train[lbls_train==1].iloc[:,i], bins=32, histtype='bar', color='orange', alpha =0.25)"
   ]
  },
  {
   "cell_type": "markdown",
   "id": "972dfac2",
   "metadata": {
    "slideshow": {
     "slide_type": ""
    }
   },
   "source": [
    "# Problem 1"
   ]
  },
  {
   "cell_type": "markdown",
   "id": "8b2d13e8",
   "metadata": {
    "slideshow": {
     "slide_type": ""
    }
   },
   "source": [
    "Train a neural network classifier to predict counterfeit banknotes. Use the features `a0` and `a3`. Calculate the confussion matrix  and AUC score. "
   ]
  },
  {
   "cell_type": "code",
   "execution_count": 15,
   "id": "7c31d2bd",
   "metadata": {
    "slideshow": {
     "slide_type": ""
    }
   },
   "outputs": [],
   "source": [
    "import torch\n",
    "import torch.nn as tnn"
   ]
  },
  {
   "cell_type": "code",
   "execution_count": 16,
   "id": "bdad0db7",
   "metadata": {
    "slideshow": {
     "slide_type": ""
    }
   },
   "outputs": [],
   "source": [
    "features= [0, 3]\n",
    "nf=len(features)"
   ]
  },
  {
   "cell_type": "code",
   "execution_count": 17,
   "id": "e85c2e2b",
   "metadata": {
    "slideshow": {
     "slide_type": ""
    }
   },
   "outputs": [],
   "source": [
    "features_train = torch.from_numpy(data_train.values[:,features]).to(dtype=torch.float32)\n",
    "labels_train = torch.from_numpy(data_train.values[:,4:5]).to(dtype=torch.float32)"
   ]
  },
  {
   "cell_type": "code",
   "execution_count": 18,
   "id": "db2e3fae",
   "metadata": {
    "slideshow": {
     "slide_type": ""
    }
   },
   "outputs": [],
   "source": [
    "features_test = torch.from_numpy(data_test.values[:,features]).to(dtype=torch.float32)\n",
    "labels_test = torch.from_numpy(data_test.values[:,4:5]).to(dtype=torch.float32)"
   ]
  },
  {
   "cell_type": "code",
   "execution_count": 19,
   "id": "513e579d",
   "metadata": {
    "slideshow": {
     "slide_type": ""
    }
   },
   "outputs": [],
   "source": [
    "model = tnn.Sequential(tnn.Linear(in_features=nf, out_features=1), tnn.Sigmoid())"
   ]
  },
  {
   "cell_type": "code",
   "execution_count": 26,
   "id": "6601097d",
   "metadata": {},
   "outputs": [],
   "source": [
    "# Training the model"
   ]
  },
  {
   "cell_type": "code",
   "execution_count": 20,
   "id": "197355fb",
   "metadata": {
    "slideshow": {
     "slide_type": ""
    }
   },
   "outputs": [],
   "source": [
    "from sklearn.metrics import roc_auc_score, confusion_matrix, accuracy_score"
   ]
  },
  {
   "cell_type": "code",
   "execution_count": 21,
   "id": "3cb5b3c7",
   "metadata": {},
   "outputs": [
    {
     "name": "stdout",
     "output_type": "stream",
     "text": [
      "Epoch 0, Loss: 0.740\n",
      "Epoch 100, Loss: 0.606\n",
      "Epoch 200, Loss: 0.518\n",
      "Epoch 300, Loss: 0.462\n",
      "Epoch 400, Loss: 0.425\n",
      "Epoch 500, Loss: 0.401\n",
      "Epoch 600, Loss: 0.383\n",
      "Epoch 700, Loss: 0.370\n",
      "Epoch 800, Loss: 0.361\n",
      "Epoch 900, Loss: 0.353\n",
      "Epoch 1000, Loss: 0.347\n",
      "Epoch 1100, Loss: 0.343\n",
      "Epoch 1200, Loss: 0.339\n",
      "Epoch 1300, Loss: 0.336\n",
      "Epoch 1400, Loss: 0.334\n",
      "Epoch 1500, Loss: 0.332\n",
      "Epoch 1600, Loss: 0.330\n",
      "Epoch 1700, Loss: 0.329\n",
      "Epoch 1800, Loss: 0.328\n",
      "Epoch 1900, Loss: 0.327\n",
      "Epoch 2000, Loss: 0.327\n",
      "Epoch 2100, Loss: 0.326\n",
      "Epoch 2200, Loss: 0.326\n",
      "Epoch 2300, Loss: 0.325\n",
      "Epoch 2400, Loss: 0.325\n"
     ]
    }
   ],
   "source": [
    "loss_fn = torch.nn.BCELoss()\n",
    "optimizer = torch.optim.Adam(model.parameters(), lr=0.001)\n",
    "\n",
    "epochs = 2500\n",
    "for epoch in range(epochs):\n",
    "    model.train()\n",
    "    y_pred = model(features_train)\n",
    "    loss = loss_fn(y_pred, labels_train)\n",
    "\n",
    "    optimizer.zero_grad()\n",
    "    loss.backward()\n",
    "    optimizer.step()\n",
    "\n",
    "    if epoch % 100 == 0:\n",
    "        print(f\"Epoch {epoch}, Loss: {loss.item():.3f}\")"
   ]
  },
  {
   "cell_type": "code",
   "execution_count": 22,
   "id": "04903902",
   "metadata": {
    "slideshow": {
     "slide_type": ""
    }
   },
   "outputs": [],
   "source": [
    "y_true = labels_test.numpy()\n",
    "with torch.no_grad():\n",
    "  y_proba = model(features_test);\n",
    "  y_predicted = 1*(y_proba>0.5)"
   ]
  },
  {
   "cell_type": "code",
   "execution_count": 23,
   "id": "54ee0d22",
   "metadata": {
    "slideshow": {
     "slide_type": ""
    }
   },
   "outputs": [
    {
     "data": {
      "text/plain": [
       "0.8803418803418803"
      ]
     },
     "execution_count": 23,
     "metadata": {},
     "output_type": "execute_result"
    }
   ],
   "source": [
    "accuracy_score(y_true, y_pred=y_predicted)"
   ]
  },
  {
   "cell_type": "code",
   "execution_count": 24,
   "id": "e072c08f",
   "metadata": {},
   "outputs": [
    {
     "data": {
      "image/png": "[encoded data removed]",
      "text/plain": [
       "<Figure size 432x288 with 2 Axes>"
      ]
     },
     "metadata": {
      "needs_background": "light"
     },
     "output_type": "display_data"
    }
   ],
   "source": [
    "y_proba_np = y_proba.numpy()\n",
    "\n",
    "cm = confusion_matrix(y_true, y_predicted)\n",
    "disp = ConfusionMatrixDisplay(confusion_matrix=cm)\n",
    "disp.plot()\n",
    "plt.title(\"Confusion Matrix (Neural Network)\")\n",
    "plt.show()"
   ]
  },
  {
   "cell_type": "code",
   "execution_count": 25,
   "id": "0a79f03a",
   "metadata": {},
   "outputs": [
    {
     "name": "stdout",
     "output_type": "stream",
     "text": [
      "AUC score: 0.95\n"
     ]
    }
   ],
   "source": [
    "auc = roc_auc_score(y_true, y_proba_np)\n",
    "print(f\"AUC score: {auc:.2f}\")"
   ]
  }
 ],
 "metadata": {
  "kernelspec": {
   "display_name": "Python 3 (ipykernel)",
   "language": "python",
   "name": "python3"
  },
  "language_info": {
   "codemirror_mode": {
    "name": "ipython",
    "version": 3
   },
   "file_extension": ".py",
   "mimetype": "text/x-python",
   "name": "python",
   "nbconvert_exporter": "python",
   "pygments_lexer": "ipython3",
   "version": "3.9.12"
  }
 },
 "nbformat": 4,
 "nbformat_minor": 5
}
